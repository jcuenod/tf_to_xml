{
 "cells": [
  {
   "cell_type": "markdown",
   "metadata": {},
   "source": [
    "# Converting ETCBC's BHSA to XML\n",
    "\n",
    "The reason for this conversion is basically to try out ETCBC's data with XML querying tools (like Jonathan Robie has done at https://github.com/biblicalhumanities/greek-new-testament/blob/master/labnotes/lxml-tutorial.ipynb)\n",
    "\n",
    "**NOTE:** You will need the osis book names (included in this repo). I simply dumped it into my text-fabric data folder.\n",
    "\n",
    "To begin with we need to do some basic imports and load text-fabric features."
   ]
  },
  {
   "cell_type": "code",
   "execution_count": 1,
   "metadata": {},
   "outputs": [
    {
     "name": "stdout",
     "output_type": "stream",
     "text": [
      "This is Text-Fabric 3.1.1\n",
      "Api reference : https://github.com/Dans-labs/text-fabric/wiki/Api\n",
      "Tutorial      : https://github.com/Dans-labs/text-fabric/blob/master/docs/tutorial.ipynb\n",
      "Example data  : https://github.com/Dans-labs/text-fabric-data\n",
      "\n",
      "115 features found and 0 ignored\n",
      "  0.00s loading features ...\n",
      "   |     0.02s B otype                from /home/jcuenod/Programming/text-fabric-data/bhsa/tf/2017\n",
      "   |     0.16s B g_lex_utf8           from /home/jcuenod/Programming/text-fabric-data/bhsa/tf/2017\n",
      "   |     0.22s B g_word_utf8          from /home/jcuenod/Programming/text-fabric-data/bhsa/tf/2017\n",
      "   |     0.10s B sp                   from /home/jcuenod/Programming/text-fabric-data/bhsa/tf/2017\n",
      "   |     0.12s B nu                   from /home/jcuenod/Programming/text-fabric-data/bhsa/tf/2017\n",
      "   |     0.12s B gn                   from /home/jcuenod/Programming/text-fabric-data/bhsa/tf/2017\n",
      "   |     0.11s B ps                   from /home/jcuenod/Programming/text-fabric-data/bhsa/tf/2017\n",
      "   |     0.11s B vt                   from /home/jcuenod/Programming/text-fabric-data/bhsa/tf/2017\n",
      "   |     0.10s B vs                   from /home/jcuenod/Programming/text-fabric-data/bhsa/tf/2017\n",
      "   |     0.09s B st                   from /home/jcuenod/Programming/text-fabric-data/bhsa/tf/2017\n",
      "   |     0.00s B gloss                from /home/jcuenod/Programming/text-fabric-data/bhsa/tf/2017\n",
      "   |     0.18s B rela                 from /home/jcuenod/Programming/text-fabric-data/bhsa/tf/2017\n",
      "   |     0.19s B typ                  from /home/jcuenod/Programming/text-fabric-data/bhsa/tf/2017\n",
      "   |     0.00s Feature overview: 109 for nodes; 5 for edges; 1 configs; 7 computed\n",
      "  5.21s All features loaded/computed - for details use loadLog()\n"
     ]
    }
   ],
   "source": [
    "import unicodedata\n",
    "from tf.fabric import Fabric\n",
    "\n",
    "DATABASE = '~/Programming/text-fabric-data'\n",
    "BHSA = 'bhsa/tf/2017'\n",
    "TF = Fabric(locations=[DATABASE], modules=[BHSA], silent=False)\n",
    "\n",
    "api = TF.load('''\n",
    "    sp nu gn ps vt vs st gloss\n",
    "    rela typ\n",
    "    otype\n",
    "    g_word_utf8 g_lex_utf8\n",
    "''')\n",
    "api.makeAvailableIn(globals())"
   ]
  },
  {
   "cell_type": "markdown",
   "metadata": {},
   "source": [
    "Here we're going to set up some functions that will come in handy later.\n",
    "- `sectionToRef` will convert a reference to an osisId\n",
    "- `setWordData` takes a node and an xml element and sets the attributes of the xml element according to data associated with the word node in text-fabric"
   ]
  },
  {
   "cell_type": "code",
   "execution_count": 2,
   "metadata": {
    "collapsed": true
   },
   "outputs": [],
   "source": [
    "def sectionToRef(section_tuple):\n",
    "    return section_tuple[0] + \".\" + str(section_tuple[1]) + \".\" + str(section_tuple[2])\n",
    "\n",
    "person_conversion = {\"p1\": 1, \"p2\": 2, \"p3\": 3}\n",
    "def setWordData(n, element):\n",
    "    r = {\n",
    "        \"n\": n,\n",
    "        \"lemma\": unicodedata.normalize(\"NFC\", F.g_lex_utf8.v(n)),\n",
    "        \"partOfSpeech\": F.sp.v(n),\n",
    "        \"person\": person_conversion[F.ps.v(n)] if F.ps.v(n) in person_conversion else F.ps.v(n),\n",
    "        \"number\": F.nu.v(n),\n",
    "        \"gender\": F.gn.v(n),\n",
    "        \"tense\": F.vt.v(n), # vt = verbal tense\n",
    "        \"stem\": F.vs.v(n), # vs = verbal stem\n",
    "        \"state\": F.st.v(n), # construct/absolute/emphatic\n",
    "        \"gloss\": F.gloss.v(L.u(n, otype='lex')[0]),\n",
    "    }\n",
    "    for key, value in r.items():\n",
    "        if value == \"NA\" or value == \"\" or value == \"unknown\":\n",
    "            continue\n",
    "        element.set(key, str(value))"
   ]
  },
  {
   "cell_type": "markdown",
   "metadata": {},
   "source": [
    "Now we build up our XML tree, note the export at the end of each book element."
   ]
  },
  {
   "cell_type": "code",
   "execution_count": 3,
   "metadata": {},
   "outputs": [
    {
     "name": "stdout",
     "output_type": "stream",
     "text": [
      "Processing...\n",
      " -  Gen\n",
      " -  Exod\n",
      " -  Lev\n",
      " -  Num\n",
      " -  Deut\n",
      " -  Josh\n",
      " -  Judg\n",
      " -  1Sam\n",
      " -  2Sam\n",
      " -  1Kgs\n",
      " -  2Kgs\n",
      " -  Isa\n",
      " -  Jer\n",
      " -  Ezek\n",
      " -  Hos\n",
      " -  Joel\n",
      " -  Amos\n",
      " -  Obad\n",
      " -  Jonah\n",
      " -  Mic\n",
      " -  Nah\n",
      " -  Hab\n",
      " -  Zeph\n",
      " -  Hag\n",
      " -  Zech\n",
      " -  Mal\n",
      " -  Ps\n",
      " -  Job\n",
      " -  Prov\n",
      " -  Ruth\n",
      " -  Song\n",
      " -  Eccl\n",
      " -  Lam\n",
      " -  Dan\n",
      " -  Ezra\n",
      " -  Neh\n",
      " -  Esth\n",
      " -  1Chr\n",
      " -  2Chr\n"
     ]
    }
   ],
   "source": [
    "from lxml import etree, builder\n",
    "\n",
    "em = builder.ElementMaker()\n",
    "root_document = em.base()\n",
    "\n",
    "OUTPUT_ROOT = \"./output/\"\n",
    "\n",
    "clause_relations = { \"Adju\": \"Adjunctive clause\", \"Attr\": \"Attributive clause\", \"Cmpl\": \"Complement clause\", \"Coor\": \"Coordinated clause\", \"Objc\": \"Object clause\", \"PrAd\": \"Predicative adjunct clause\", \"PreC\": \"Predicative complement clause\", \"ReVo\": \"Referral to the vocative\", \"Resu\": \"Resumptive clause\", \"RgRc\": \"Regens/rectum connection\", \"Spec\": \"Specification clause\", \"Subj\": \"Subject clause\" }\n",
    "phrase_relations = { \"PrAd\": \"Predicative adjunct\", \"Resu\": \"Resumption\" }\n",
    "clause_types = { \"AjCl\": \"Adjective clause\", \"CPen\": \"Casus pendens\", \"Defc\": \"Defective clause atom\", \"Ellp\": \"Ellipsis\", \"InfA\": \"Infinitive absolute clause\", \"InfC\": \"Infinitive construct clause\", \"MSyn\": \"Macrosyntactic sign\", \"NmCl\": \"Nominal clause\", \"Ptcp\": \"Participle clause\", \"Reop\": \"Reopening\", \"Unkn\": \"Unknown\", \"Voct\": \"Vocative clause\", \"Way0\": \"Wayyiqtol-null clause\", \"WayX\": \"Wayyiqtol-X clause\", \"WIm0\": \"We-imperative-null clause\", \"WImX\": \"We-imperative-X clause\", \"WQt0\": \"We-qatal-null clause\", \"WQtX\": \"We-qatal-X clause\", \"WxI0\": \"We-x-imperative-null clause\", \"WXIm\": \"We-X-imperative clause\", \"WxIX\": \"We-x-imperative-X clause\", \"WxQ0\": \"We-x-qatal-null clause\", \"WXQt\": \"We-X-qatal clause\", \"WxQX\": \"We-x-qatal-X clause\", \"WxY0\": \"We-x-yiqtol-null clause\", \"WXYq\": \"We-X-yiqtol clause\", \"WxYX\": \"We-x-yiqtol-X clause\", \"WYq0\": \"We-yiqtol-null clause\", \"WYqX\": \"We-yiqtol-X clause\", \"xIm0\": \"x-imperative-null clause\", \"XImp\": \"X-imperative clause\", \"xImX\": \"x-imperative-X clause\", \"XPos\": \"Extraposition\", \"xQt0\": \"x-qatal-null clause\", \"XQtl\": \"X-qatal clause\", \"xQtX\": \"x-qatal-X clause\", \"xYq0\": \"x-yiqtol-null clause\", \"XYqt\": \"X-yiqtol clause\", \"xYqX\": \"x-yiqtol-X clause\", \"ZIm0\": \"Zero-imperative-null clause\", \"ZImX\": \"Zero-imperative-X clause\", \"ZQt0\": \"Zero-qatal-null clause\", \"ZQtX\": \"Zero-qatal-X clause\", \"ZYq0\": \"Zero-yiqtol-null clause\", \"ZYqX\": \"Zero-yiqtol-X clause\" }\n",
    "phrase_types = { \"VP\": \"Verbal phrase\", \"NP\": \"Nominal phrase\", \"PrNP\": \"Proper-noun phrase\", \"AdvP\": \"Adverbial phrase\", \"PP\": \"Prepositional phrase\", \"CP\": \"Conjunctive phrase\", \"PPrP\": \"Personal pronoun phrase\", \"DPrP\": \"Demonstrative pronoun phrase\", \"IPrP\": \"Interrogative pronoun phrase\", \"InjP\": \"Interjectional phrase\", \"NegP\": \"Negative phrase\", \"InrP\": \"Interrogative phrase\", \"AdjP\": \"Adjective phrase\" }\n",
    "\n",
    "print(\"Processing...\")\n",
    "for book in F.otype.s(\"book\"):\n",
    "    print(\" - \", T.bookName(book, lang=\"osis\"))\n",
    "    book_doc = em.book()\n",
    "    book_doc.set('id', T.bookName(book, lang=\"osis\"))\n",
    "\n",
    "    for sentence in L.d(book, otype=\"sentence\"):\n",
    "        refTuple = T.sectionFromNode(sentence, lang=\"osis\")\n",
    "\n",
    "        milestone = em.milestone(sectionToRef(refTuple), unit=\"verse\")\n",
    "        milestone.set(\"id\", sectionToRef(refTuple))\n",
    "        sentence_element = em.sentence(\n",
    "            milestone,\n",
    "            em.p(T.text(L.d(sentence, 'word'))),\n",
    "            n=str(sentence)\n",
    "        )\n",
    "        for clause in L.d(sentence, otype=\"clause\"):\n",
    "            clauseRefTuple = T.sectionFromNode(clause, lang=\"osis\")\n",
    "            if clauseRefTuple != refTuple:\n",
    "                milestone = em.milestone(sectionToRef(clauseRefTuple), unit=\"verse\")\n",
    "                milestone.set(\"id\", sectionToRef(clauseRefTuple))\n",
    "                sentence_element.append(milestone)\n",
    "                refTuple = clauseRefTuple\n",
    "            clause_element = em.wg(n=str(clause), level=\"clause\")\n",
    "            clause_element.set(\"class\", clause_types[F.typ.v(clause)])\n",
    "            if F.rela.v(clause) != \"NA\":\n",
    "                clause_element.set(\"role\", clause_relations[F.rela.v(clause)]) \n",
    "\n",
    "            for phrase in L.d(clause, otype=\"phrase\"):\n",
    "                phrase_element = em.wg(n=str(phrase), level=\"phrase\")\n",
    "                phrase_element.set(\"class\", phrase_types[F.typ.v(phrase)])\n",
    "                if F.rela.v(phrase) != \"NA\":\n",
    "                    phrase_element.set(\"role\", phrase_relations[F.rela.v(phrase)])\n",
    "\n",
    "                for word in L.d(phrase, otype=\"word\"):\n",
    "                    w_element = em.w( unicodedata.normalize(\"NFC\", F.g_word_utf8.v(word)) )\n",
    "                    setWordData(word, w_element)\n",
    "\n",
    "                    phrase_element.append(w_element)\n",
    "                clause_element.append(phrase_element)\n",
    "            sentence_element.append(clause_element)\n",
    "        book_doc.append(sentence_element)\n",
    "    \n",
    "    OUTPUT_FILE = OUTPUT_ROOT + T.bookName(book, lang=\"osis\").lower() + \".xml\"\n",
    "    etree.ElementTree(book_doc).write(OUTPUT_FILE, pretty_print=True, xml_declaration=True, encoding=\"utf-8\")\n",
    "    \n",
    "    root_document.append(book_doc)"
   ]
  },
  {
   "cell_type": "markdown",
   "metadata": {},
   "source": [
    "Export the whole file to \"`root.xml`\""
   ]
  },
  {
   "cell_type": "code",
   "execution_count": 4,
   "metadata": {},
   "outputs": [
    {
     "name": "stdout",
     "output_type": "stream",
     "text": [
      "done - see  ./output/root.xml\n"
     ]
    }
   ],
   "source": [
    "OUTPUT_FILE = OUTPUT_ROOT + \"root.xml\"\n",
    "etree.ElementTree(root_document).write(OUTPUT_FILE, pretty_print=True, xml_declaration=True, encoding=\"utf-8\")\n",
    "print(\"done - see \", OUTPUT_FILE)"
   ]
  }
 ],
 "metadata": {
  "kernelspec": {
   "display_name": "Python 3",
   "language": "python",
   "name": "python3"
  },
  "language_info": {
   "codemirror_mode": {
    "name": "ipython",
    "version": 3
   },
   "file_extension": ".py",
   "mimetype": "text/x-python",
   "name": "python",
   "nbconvert_exporter": "python",
   "pygments_lexer": "ipython3",
   "version": "3.6.4"
  }
 },
 "nbformat": 4,
 "nbformat_minor": 2
}
