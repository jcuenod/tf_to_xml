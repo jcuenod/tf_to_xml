{
 "cells": [
  {
   "cell_type": "code",
   "execution_count": 1,
   "metadata": {},
   "outputs": [
    {
     "name": "stdout",
     "output_type": "stream",
     "text": [
      "This is Text-Fabric 3.1.1\n",
      "Api reference : https://github.com/Dans-labs/text-fabric/wiki/Api\n",
      "Tutorial      : https://github.com/Dans-labs/text-fabric/blob/master/docs/tutorial.ipynb\n",
      "Example data  : https://github.com/Dans-labs/text-fabric-data\n",
      "\n",
      "115 features found and 0 ignored\n",
      "  0.00s loading features ...\n",
      "   |     0.03s B otype                from /home/jcuenod/Programming/text-fabric-data/bhsa/tf/2017\n",
      "   |     0.18s B g_word_utf8          from /home/jcuenod/Programming/text-fabric-data/bhsa/tf/2017\n",
      "   |     0.17s B lex_utf8             from /home/jcuenod/Programming/text-fabric-data/bhsa/tf/2017\n",
      "   |     0.09s B sp                   from /home/jcuenod/Programming/text-fabric-data/bhsa/tf/2017\n",
      "   |     0.10s B nu                   from /home/jcuenod/Programming/text-fabric-data/bhsa/tf/2017\n",
      "   |     0.08s B gn                   from /home/jcuenod/Programming/text-fabric-data/bhsa/tf/2017\n",
      "   |     0.10s B ps                   from /home/jcuenod/Programming/text-fabric-data/bhsa/tf/2017\n",
      "   |     0.10s B vt                   from /home/jcuenod/Programming/text-fabric-data/bhsa/tf/2017\n",
      "   |     0.10s B vs                   from /home/jcuenod/Programming/text-fabric-data/bhsa/tf/2017\n",
      "   |     0.09s B st                   from /home/jcuenod/Programming/text-fabric-data/bhsa/tf/2017\n",
      "   |     0.17s B rela                 from /home/jcuenod/Programming/text-fabric-data/bhsa/tf/2017\n",
      "   |     0.17s B typ                  from /home/jcuenod/Programming/text-fabric-data/bhsa/tf/2017\n",
      "   |     0.00s B gloss                from /home/jcuenod/Programming/text-fabric-data/bhsa/tf/2017\n",
      "   |     0.00s Feature overview: 109 for nodes; 5 for edges; 1 configs; 7 computed\n",
      "  5.04s All features loaded/computed - for details use loadLog()\n"
     ]
    }
   ],
   "source": [
    "import unicodedata\n",
    "from tf.fabric import Fabric\n",
    "\n",
    "DATABASE = '~/Programming/text-fabric-data'\n",
    "BHSA = 'bhsa/tf/2017'\n",
    "TF = Fabric(locations=[DATABASE], modules=[BHSA], silent=False)\n",
    "\n",
    "api = TF.load('''\n",
    "    sp nu gn ps vt vs st\n",
    "    rela typ\n",
    "    otype\n",
    "    g_word_utf8 lex_utf8\n",
    "    gloss\n",
    "''')\n",
    "api.makeAvailableIn(globals())"
   ]
  },
  {
   "cell_type": "code",
   "execution_count": 2,
   "metadata": {
    "collapsed": true
   },
   "outputs": [],
   "source": [
    "def sectionToRef(section_tuple):\n",
    "    return section_tuple[0] + \".\" + str(section_tuple[1]) + \".\" + str(section_tuple[2])\n",
    "\n",
    "person_conversion = {\"p1\": 1, \"p2\": 2, \"p3\": 3}\n",
    "def setWordData(n, element):\n",
    "    r = {\n",
    "        \"n\": n,\n",
    "        \"lemma\": unicodedata.normalize(\"NFC\", F.lex_utf8.v(n)),\n",
    "        \"partOfSpeech\": F.sp.v(n),\n",
    "        \"person\": person_conversion[F.ps.v(n)] if F.ps.v(n) in person_conversion else F.ps.v(n),\n",
    "        \"number\": F.nu.v(n),\n",
    "        \"gender\": F.gn.v(n),\n",
    "        \"tense\": F.vt.v(n), # vt = verbal tense\n",
    "        \"stem\": F.vs.v(n), # vs = verbal stem\n",
    "        \"state\": F.st.v(n), # construct/absolute/emphatic\n",
    "        \"gloss\": F.gloss.v(n),\n",
    "    }\n",
    "    for key, value in r.items():\n",
    "        if value == \"NA\" or value == \"\" or value == \"unknown\":\n",
    "            continue\n",
    "        element.set(key, str(value))"
   ]
  },
  {
   "cell_type": "code",
   "execution_count": 3,
   "metadata": {},
   "outputs": [
    {
     "name": "stdout",
     "output_type": "stream",
     "text": [
      "Processing...\n",
      " -  Gen\n",
      " -  Exod\n",
      " -  Lev\n",
      " -  Num\n",
      " -  Deut\n",
      " -  Josh\n",
      " -  Judg\n",
      " -  1Sam\n",
      " -  2Sam\n",
      " -  1Kgs\n",
      " -  2Kgs\n",
      " -  Isa\n",
      " -  Jer\n",
      " -  Ezek\n",
      " -  Hos\n",
      " -  Joel\n",
      " -  Amos\n",
      " -  Obad\n",
      " -  Jonah\n",
      " -  Mic\n",
      " -  Nah\n",
      " -  Hab\n",
      " -  Zeph\n",
      " -  Hag\n",
      " -  Zech\n",
      " -  Mal\n",
      " -  Ps\n",
      " -  Job\n",
      " -  Prov\n",
      " -  Ruth\n",
      " -  Song\n",
      " -  Eccl\n",
      " -  Lam\n",
      " -  Dan\n",
      " -  Ezra\n",
      " -  Neh\n",
      " -  Esth\n",
      " -  1Chr\n",
      " -  2Chr\n"
     ]
    }
   ],
   "source": [
    "from lxml import etree, builder\n",
    "\n",
    "em = builder.ElementMaker()\n",
    "root_document = em.base()\n",
    "\n",
    "OUTPUT_ROOT = \"./output/\"\n",
    "\n",
    "print(\"Processing...\")\n",
    "for book in F.otype.s(\"book\"):\n",
    "    print(\" - \", T.bookName(book, lang=\"osis\"))\n",
    "    book_doc = em.book()\n",
    "    book_doc.set('id', T.bookName(book, lang=\"osis\"))\n",
    "\n",
    "    for sentence in L.d(book, otype=\"sentence\"):\n",
    "        refTuple = T.sectionFromNode(sentence, lang=\"osis\")\n",
    "\n",
    "        milestone = em.milestone(sectionToRef(refTuple), unit=\"verse\")\n",
    "        milestone.set(\"id\", sectionToRef(refTuple))\n",
    "        sentence_element = em.sentence(\n",
    "            milestone,\n",
    "            em.p(T.text(L.d(sentence, 'word'))),\n",
    "            n=str(sentence)\n",
    "        )\n",
    "        for clause in L.d(sentence, otype=\"clause\"):\n",
    "            clauseRefTuple = T.sectionFromNode(clause, lang=\"osis\")\n",
    "            if clauseRefTuple != refTuple:\n",
    "                milestone = em.milestone(sectionToRef(clauseRefTuple), unit=\"verse\")\n",
    "                milestone.set(\"id\", sectionToRef(clauseRefTuple))\n",
    "                sentence_element.append(milestone)\n",
    "                refTuple = clauseRefTuple\n",
    "            clause_element = em.wg(n=str(clause))\n",
    "            clause_element.set(\"class\", F.typ.v(clause))\n",
    "            if F.rela.v(clause) != \"NA\":\n",
    "                clause_element.set(\"role\", F.rela.v(clause)) \n",
    "\n",
    "            for phrase in L.d(clause, otype=\"phrase\"):\n",
    "                phrase_element = em.wg(n=str(phrase))\n",
    "                phrase_element.set(\"class\", F.typ.v(phrase))\n",
    "                if F.rela.v(phrase) != \"NA\":\n",
    "                    phrase_element.set(\"role\", F.rela.v(phrase))\n",
    "\n",
    "                for word in L.d(phrase, otype=\"word\"):\n",
    "                    w_element = em.w( unicodedata.normalize(\"NFC\", F.g_word_utf8.v(word)) )\n",
    "                    setWordData(word, w_element)\n",
    "\n",
    "                    phrase_element.append(w_element)\n",
    "                clause_element.append(phrase_element)\n",
    "            sentence_element.append(clause_element)\n",
    "        book_doc.append(sentence_element)\n",
    "    \n",
    "    OUTPUT_FILE = OUTPUT_ROOT + T.bookName(book, lang=\"osis\").lower() + \".xml\"\n",
    "    etree.ElementTree(book_doc).write(OUTPUT_FILE, pretty_print=True, xml_declaration=True, encoding=\"utf-8\")\n",
    "    \n",
    "    root_document.append(book_doc)"
   ]
  },
  {
   "cell_type": "code",
   "execution_count": 4,
   "metadata": {},
   "outputs": [
    {
     "name": "stdout",
     "output_type": "stream",
     "text": [
      "253187\n"
     ]
    }
   ],
   "source": [
    "phrase_nodes = []\n",
    "for phrase in F.otype.s(\"phrase\"):\n",
    "    phrase_nodes.append(phrase)\n",
    "print(len(phrase_nodes))"
   ]
  },
  {
   "cell_type": "code",
   "execution_count": 5,
   "metadata": {},
   "outputs": [
    {
     "data": {
      "text/plain": [
       "253187"
      ]
     },
     "execution_count": 5,
     "metadata": {},
     "output_type": "execute_result"
    }
   ],
   "source": [
    "len(root_document.xpath(\"//sentence/wg/wg\"))"
   ]
  },
  {
   "cell_type": "code",
   "execution_count": 6,
   "metadata": {
    "collapsed": true
   },
   "outputs": [],
   "source": [
    "OUTPUT_FILE = OUTPUT_ROOT + \"root.xml\"\n",
    "etree.ElementTree(root_document).write(OUTPUT_FILE, pretty_print=True, xml_declaration=True, encoding=\"utf-8\")"
   ]
  },
  {
   "cell_type": "code",
   "execution_count": null,
   "metadata": {
    "collapsed": true
   },
   "outputs": [],
   "source": []
  }
 ],
 "metadata": {
  "kernelspec": {
   "display_name": "Python 3",
   "language": "python",
   "name": "python3"
  },
  "language_info": {
   "codemirror_mode": {
    "name": "ipython",
    "version": 3
   },
   "file_extension": ".py",
   "mimetype": "text/x-python",
   "name": "python",
   "nbconvert_exporter": "python",
   "pygments_lexer": "ipython3",
   "version": "3.6.4"
  }
 },
 "nbformat": 4,
 "nbformat_minor": 2
}
